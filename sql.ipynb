{
 "cells": [
  {
   "cell_type": "markdown",
   "metadata": {},
   "source": [
    "# ODBC\n",
    "\n",
    "Stands for __O__pen __D__atabase __C__onnectivity. It provides an __A__pplication __P__rogramming __I__nterface (API) that allows client side programs to call DBMS.<br>\n",
    "* Query and transaction requests are sent using the ODBC API to the RDBMS.\n",
    "* Query results are sent back to client programs.\n",
    "* Example: JDBC for Java programs, pyodbc for Python.<br>\n",
    "<img src=\"arch.jpg\" alt=\"Three tier client server architecture for DBMS\" title=\"Three tier architecture\" width=\"400\" hight=\"400\" align=\"left\"/>"
   ]
  },
  {
   "cell_type": "markdown",
   "metadata": {},
   "source": [
    "Some guidelines for writing Jupyter notebooks can be found here <br>\n",
    "https://www.ibm.com/support/knowledgecenter/SSHGWL_1.2.3/analyze-data/markd-jupyter.html"
   ]
  },
  {
   "cell_type": "markdown",
   "metadata": {},
   "source": [
    "# Jupyter notebook\n",
    "\n",
    "To work with jupyter notebook: <br>\n",
    "* Install Anaconda https://www.anaconda.com/\n",
    "* Install pyodbc as illustrated here https://pypi.org/project/pyodbc/ by typing pip install pyodbc in anaconda prompt (you will find anaconda prompt in the start menu)\n",
    "* Launch jupyter notebook from anaconda prompt by typing: jupyter notebook"
   ]
  },
  {
   "cell_type": "markdown",
   "metadata": {},
   "source": [
    "# Imports"
   ]
  },
  {
   "cell_type": "code",
   "execution_count": 160,
   "metadata": {},
   "outputs": [],
   "source": [
    "import pyodbc as podbc\n",
    "import pandas as pd\n",
    "# More about Pandas https://pandas.pydata.org/about/index.html"
   ]
  },
  {
   "cell_type": "markdown",
   "metadata": {},
   "source": [
    "# Connect to DB method"
   ]
  },
  {
   "cell_type": "code",
   "execution_count": 161,
   "metadata": {},
   "outputs": [],
   "source": [
    "def connect_to_db():\n",
    "    conn = podbc.connect('Driver={SQL Server};'\n",
    "                          'Server=RAISA-CAIRO-19\\SQLEXPRESS;'\n",
    "                          'Database={COMPANY};'\n",
    "                          'Trusted_Connection=yes;')\n",
    "    cursor = conn.cursor()\n",
    "    return conn, cursor"
   ]
  },
  {
   "cell_type": "markdown",
   "metadata": {},
   "source": [
    "# Execute query method"
   ]
  },
  {
   "cell_type": "code",
   "execution_count": 162,
   "metadata": {},
   "outputs": [],
   "source": [
    "def execute_query(query, cursor):\n",
    "    cursor.execute(query)\n",
    "    for row in cursor:\n",
    "        print(row)\n",
    "    df = pd.read_sql_query(query, conn)\n",
    "    cursor.commit()\n",
    "    return df"
   ]
  },
  {
   "cell_type": "code",
   "execution_count": 244,
   "metadata": {},
   "outputs": [],
   "source": [
    "def execute_non_return_query(query, cursor):\n",
    "    cursor.execute(query)\n",
    "    cursor.commit()"
   ]
  },
  {
   "cell_type": "markdown",
   "metadata": {},
   "source": [
    "# Connect to DB"
   ]
  },
  {
   "cell_type": "code",
   "execution_count": 164,
   "metadata": {},
   "outputs": [],
   "source": [
    "conn, cursor = connect_to_db()"
   ]
  },
  {
   "cell_type": "markdown",
   "metadata": {},
   "source": [
    "# Create DB"
   ]
  },
  {
   "cell_type": "code",
   "execution_count": 249,
   "metadata": {},
   "outputs": [],
   "source": [
    "query = \"\"\"CREATE DATABASE COMPANY\"\"\""
   ]
  },
  {
   "cell_type": "code",
   "execution_count": null,
   "metadata": {},
   "outputs": [],
   "source": [
    "execute_non_return_query(query, cursor)"
   ]
  },
  {
   "cell_type": "markdown",
   "metadata": {},
   "source": [
    "# Create table query"
   ]
  },
  {
   "cell_type": "code",
   "execution_count": 207,
   "metadata": {},
   "outputs": [],
   "source": [
    "query = \"\"\"DROP TABLE IF EXISTS EMPLOYEE\"\"\""
   ]
  },
  {
   "cell_type": "code",
   "execution_count": 208,
   "metadata": {},
   "outputs": [],
   "source": [
    "execute_non_return_query(query, cursor)"
   ]
  },
  {
   "cell_type": "code",
   "execution_count": 209,
   "metadata": {},
   "outputs": [],
   "source": [
    "query = \"\"\"DROP TABLE IF EXISTS DEPARTMENT\"\"\""
   ]
  },
  {
   "cell_type": "code",
   "execution_count": 210,
   "metadata": {},
   "outputs": [],
   "source": [
    "execute_non_return_query(query, cursor)"
   ]
  },
  {
   "cell_type": "code",
   "execution_count": 211,
   "metadata": {},
   "outputs": [],
   "source": [
    "query = \"\"\"CREATE TABLE DEPARTMENT(\n",
    "Dname VARCHAR(15) NOT NULL,\n",
    "Dnumber INT NOT NULL CHECK (Dnumber>0 AND Dnumber<21),\n",
    "PRIMARY KEY(Dnumber)\n",
    ")\n",
    "\"\"\""
   ]
  },
  {
   "cell_type": "code",
   "execution_count": 212,
   "metadata": {},
   "outputs": [
    {
     "name": "stdout",
     "output_type": "stream",
     "text": [
      "CREATE TABLE DEPARTMENT(\n",
      "Dname VARCHAR(15) NOT NULL,\n",
      "Dnumber INT NOT NULL CHECK (Dnumber>0 AND Dnumber<21),\n",
      "PRIMARY KEY(Dnumber)\n",
      ")\n",
      "\n"
     ]
    }
   ],
   "source": [
    "print(query)"
   ]
  },
  {
   "cell_type": "code",
   "execution_count": 213,
   "metadata": {},
   "outputs": [],
   "source": [
    "execute_non_return_query(query, cursor)"
   ]
  },
  {
   "cell_type": "code",
   "execution_count": 214,
   "metadata": {},
   "outputs": [],
   "source": [
    "# IMPORTANT: in order to specify on delete set default, default must be specified as in the table below\n",
    "# On delete cascade will delete all rows with a foreign key referencing a primary key in another table, on update cascade will \n",
    "# update value of the foreign key if the primary key is updated.\n",
    "query = \"\"\"CREATE TABLE EMPLOYEE(\n",
    "Fname VARCHAR(15) NOT NULL,\n",
    "Minit CHAR,\n",
    "Lname VARCHAR(15) NOT NULL,\n",
    "Ssn CHAR(9) NOT NULL,\n",
    "Bdate DATE,\n",
    "Address VARCHAR(30),\n",
    "gender CHAR,\n",
    "Salary DECIMAL(10,2),\n",
    "Super_ssn CHAR(9),\n",
    "Dno int NOT NULL DEFAULT 1,\n",
    "PRIMARY KEY(Ssn),\n",
    "CONSTRAINT EMPDEPTFK FOREIGN KEY(Dno) REFERENCES DEPARTMENT(Dnumber) ON DELETE SET DEFAULT ON UPDATE CASCADE\n",
    ")\"\"\""
   ]
  },
  {
   "cell_type": "code",
   "execution_count": 215,
   "metadata": {},
   "outputs": [],
   "source": [
    "execute_non_return_query(query, cursor)"
   ]
  },
  {
   "cell_type": "code",
   "execution_count": 216,
   "metadata": {},
   "outputs": [],
   "source": [
    "query = \"\"\"ALTER TABLE EMPLOYEE ADD CONSTRAINT SUPERSSNFK FOREIGN KEY(Super_ssn) REFERENCES EMPLOYEE(Ssn)\"\"\""
   ]
  },
  {
   "cell_type": "code",
   "execution_count": 217,
   "metadata": {},
   "outputs": [],
   "source": [
    "execute_non_return_query(query, cursor)"
   ]
  },
  {
   "cell_type": "markdown",
   "metadata": {},
   "source": [
    "# Insert"
   ]
  },
  {
   "cell_type": "code",
   "execution_count": 236,
   "metadata": {},
   "outputs": [],
   "source": [
    "query = \"\"\"INSERT INTO DEPARTMENT VALUES('CS', 2)\"\"\""
   ]
  },
  {
   "cell_type": "code",
   "execution_count": 237,
   "metadata": {},
   "outputs": [],
   "source": [
    "execute_non_return_query(query, cursor)"
   ]
  },
  {
   "cell_type": "code",
   "execution_count": 220,
   "metadata": {},
   "outputs": [],
   "source": [
    "query = \"\"\"INSERT INTO EMPLOYEE VALUES('John', 'B', 'Smith', '123456789', '1965-01-09', \n",
    "'371 Fondren, Housten, TX', 'M', 30000, NULL, 1)\n",
    "\"\"\""
   ]
  },
  {
   "cell_type": "code",
   "execution_count": 221,
   "metadata": {},
   "outputs": [],
   "source": [
    "execute_non_return_query(query, cursor)"
   ]
  },
  {
   "cell_type": "code",
   "execution_count": 222,
   "metadata": {},
   "outputs": [],
   "source": [
    "query = \"\"\"INSERT INTO EMPLOYEE VALUES('Ahmed', 'S', 'Taher', '987654321', '1965-01-09', \n",
    "'371 Fondren, Housten, TX', 'M', 30000, '123456789', 1)\n",
    "\"\"\""
   ]
  },
  {
   "cell_type": "code",
   "execution_count": 223,
   "metadata": {},
   "outputs": [],
   "source": [
    "execute_non_return_query(query, cursor)"
   ]
  },
  {
   "cell_type": "markdown",
   "metadata": {},
   "source": [
    "# Select"
   ]
  },
  {
   "cell_type": "code",
   "execution_count": 224,
   "metadata": {},
   "outputs": [],
   "source": [
    "query = \"SELECT * FROM EMPLOYEE\""
   ]
  },
  {
   "cell_type": "code",
   "execution_count": 225,
   "metadata": {},
   "outputs": [
    {
     "name": "stdout",
     "output_type": "stream",
     "text": [
      "('John', 'B', 'Smith', '123456789', '1965-01-09', '371 Fondren, Housten, TX', 'M', Decimal('30000.00'), None, 1)\n",
      "('Ahmed', 'S', 'Taher', '987654321', '1965-01-09', '371 Fondren, Housten, TX', 'M', Decimal('30000.00'), '123456789', 1)\n"
     ]
    },
    {
     "data": {
      "text/html": [
       "<div>\n",
       "<style scoped>\n",
       "    .dataframe tbody tr th:only-of-type {\n",
       "        vertical-align: middle;\n",
       "    }\n",
       "\n",
       "    .dataframe tbody tr th {\n",
       "        vertical-align: top;\n",
       "    }\n",
       "\n",
       "    .dataframe thead th {\n",
       "        text-align: right;\n",
       "    }\n",
       "</style>\n",
       "<table border=\"1\" class=\"dataframe\">\n",
       "  <thead>\n",
       "    <tr style=\"text-align: right;\">\n",
       "      <th></th>\n",
       "      <th>Fname</th>\n",
       "      <th>Minit</th>\n",
       "      <th>Lname</th>\n",
       "      <th>Ssn</th>\n",
       "      <th>Bdate</th>\n",
       "      <th>Address</th>\n",
       "      <th>gender</th>\n",
       "      <th>Salary</th>\n",
       "      <th>Super_ssn</th>\n",
       "      <th>Dno</th>\n",
       "    </tr>\n",
       "  </thead>\n",
       "  <tbody>\n",
       "    <tr>\n",
       "      <th>0</th>\n",
       "      <td>John</td>\n",
       "      <td>B</td>\n",
       "      <td>Smith</td>\n",
       "      <td>123456789</td>\n",
       "      <td>1965-01-09</td>\n",
       "      <td>371 Fondren, Housten, TX</td>\n",
       "      <td>M</td>\n",
       "      <td>30000.0</td>\n",
       "      <td>None</td>\n",
       "      <td>1</td>\n",
       "    </tr>\n",
       "    <tr>\n",
       "      <th>1</th>\n",
       "      <td>Ahmed</td>\n",
       "      <td>S</td>\n",
       "      <td>Taher</td>\n",
       "      <td>987654321</td>\n",
       "      <td>1965-01-09</td>\n",
       "      <td>371 Fondren, Housten, TX</td>\n",
       "      <td>M</td>\n",
       "      <td>30000.0</td>\n",
       "      <td>123456789</td>\n",
       "      <td>1</td>\n",
       "    </tr>\n",
       "  </tbody>\n",
       "</table>\n",
       "</div>"
      ],
      "text/plain": [
       "   Fname Minit  Lname        Ssn       Bdate                   Address gender  \\\n",
       "0   John     B  Smith  123456789  1965-01-09  371 Fondren, Housten, TX      M   \n",
       "1  Ahmed     S  Taher  987654321  1965-01-09  371 Fondren, Housten, TX      M   \n",
       "\n",
       "    Salary  Super_ssn  Dno  \n",
       "0  30000.0       None    1  \n",
       "1  30000.0  123456789    1  "
      ]
     },
     "execution_count": 225,
     "metadata": {},
     "output_type": "execute_result"
    }
   ],
   "source": [
    "execute_query(query, cursor)"
   ]
  },
  {
   "cell_type": "code",
   "execution_count": 226,
   "metadata": {},
   "outputs": [],
   "source": [
    "query = \"\"\"DROP TABLE IF EXISTS D1EMP\"\"\""
   ]
  },
  {
   "cell_type": "code",
   "execution_count": 227,
   "metadata": {},
   "outputs": [],
   "source": [
    "execute_non_return_query(query, cursor)"
   ]
  },
  {
   "cell_type": "code",
   "execution_count": 228,
   "metadata": {},
   "outputs": [],
   "source": [
    "query = \"\"\"\n",
    "SELECT * INTO D1EMP\n",
    "FROM EMPLOYEE\n",
    "WHERE Dno = 1\n",
    "\"\"\""
   ]
  },
  {
   "cell_type": "code",
   "execution_count": 229,
   "metadata": {},
   "outputs": [],
   "source": [
    "execute_non_return_query(query, cursor)"
   ]
  },
  {
   "cell_type": "code",
   "execution_count": 230,
   "metadata": {},
   "outputs": [],
   "source": [
    "query = \"SELECT * FROM D1EMP\""
   ]
  },
  {
   "cell_type": "code",
   "execution_count": 231,
   "metadata": {},
   "outputs": [
    {
     "name": "stdout",
     "output_type": "stream",
     "text": [
      "('John', 'B', 'Smith', '123456789', '1965-01-09', '371 Fondren, Housten, TX', 'M', Decimal('30000.00'), None, 1)\n",
      "('Ahmed', 'S', 'Taher', '987654321', '1965-01-09', '371 Fondren, Housten, TX', 'M', Decimal('30000.00'), '123456789', 1)\n"
     ]
    },
    {
     "data": {
      "text/html": [
       "<div>\n",
       "<style scoped>\n",
       "    .dataframe tbody tr th:only-of-type {\n",
       "        vertical-align: middle;\n",
       "    }\n",
       "\n",
       "    .dataframe tbody tr th {\n",
       "        vertical-align: top;\n",
       "    }\n",
       "\n",
       "    .dataframe thead th {\n",
       "        text-align: right;\n",
       "    }\n",
       "</style>\n",
       "<table border=\"1\" class=\"dataframe\">\n",
       "  <thead>\n",
       "    <tr style=\"text-align: right;\">\n",
       "      <th></th>\n",
       "      <th>Fname</th>\n",
       "      <th>Minit</th>\n",
       "      <th>Lname</th>\n",
       "      <th>Ssn</th>\n",
       "      <th>Bdate</th>\n",
       "      <th>Address</th>\n",
       "      <th>gender</th>\n",
       "      <th>Salary</th>\n",
       "      <th>Super_ssn</th>\n",
       "      <th>Dno</th>\n",
       "    </tr>\n",
       "  </thead>\n",
       "  <tbody>\n",
       "    <tr>\n",
       "      <th>0</th>\n",
       "      <td>John</td>\n",
       "      <td>B</td>\n",
       "      <td>Smith</td>\n",
       "      <td>123456789</td>\n",
       "      <td>1965-01-09</td>\n",
       "      <td>371 Fondren, Housten, TX</td>\n",
       "      <td>M</td>\n",
       "      <td>30000.0</td>\n",
       "      <td>None</td>\n",
       "      <td>1</td>\n",
       "    </tr>\n",
       "    <tr>\n",
       "      <th>1</th>\n",
       "      <td>Ahmed</td>\n",
       "      <td>S</td>\n",
       "      <td>Taher</td>\n",
       "      <td>987654321</td>\n",
       "      <td>1965-01-09</td>\n",
       "      <td>371 Fondren, Housten, TX</td>\n",
       "      <td>M</td>\n",
       "      <td>30000.0</td>\n",
       "      <td>123456789</td>\n",
       "      <td>1</td>\n",
       "    </tr>\n",
       "  </tbody>\n",
       "</table>\n",
       "</div>"
      ],
      "text/plain": [
       "   Fname Minit  Lname        Ssn       Bdate                   Address gender  \\\n",
       "0   John     B  Smith  123456789  1965-01-09  371 Fondren, Housten, TX      M   \n",
       "1  Ahmed     S  Taher  987654321  1965-01-09  371 Fondren, Housten, TX      M   \n",
       "\n",
       "    Salary  Super_ssn  Dno  \n",
       "0  30000.0       None    1  \n",
       "1  30000.0  123456789    1  "
      ]
     },
     "execution_count": 231,
     "metadata": {},
     "output_type": "execute_result"
    }
   ],
   "source": [
    "execute_query(query, cursor)"
   ]
  },
  {
   "cell_type": "code",
   "execution_count": 232,
   "metadata": {},
   "outputs": [],
   "source": [
    "query = \"SELECT ALL SALARY FROM EMPLOYEE\""
   ]
  },
  {
   "cell_type": "code",
   "execution_count": 233,
   "metadata": {},
   "outputs": [
    {
     "name": "stdout",
     "output_type": "stream",
     "text": [
      "(Decimal('30000.00'), )\n",
      "(Decimal('30000.00'), )\n"
     ]
    },
    {
     "data": {
      "text/html": [
       "<div>\n",
       "<style scoped>\n",
       "    .dataframe tbody tr th:only-of-type {\n",
       "        vertical-align: middle;\n",
       "    }\n",
       "\n",
       "    .dataframe tbody tr th {\n",
       "        vertical-align: top;\n",
       "    }\n",
       "\n",
       "    .dataframe thead th {\n",
       "        text-align: right;\n",
       "    }\n",
       "</style>\n",
       "<table border=\"1\" class=\"dataframe\">\n",
       "  <thead>\n",
       "    <tr style=\"text-align: right;\">\n",
       "      <th></th>\n",
       "      <th>SALARY</th>\n",
       "    </tr>\n",
       "  </thead>\n",
       "  <tbody>\n",
       "    <tr>\n",
       "      <th>0</th>\n",
       "      <td>30000.0</td>\n",
       "    </tr>\n",
       "    <tr>\n",
       "      <th>1</th>\n",
       "      <td>30000.0</td>\n",
       "    </tr>\n",
       "  </tbody>\n",
       "</table>\n",
       "</div>"
      ],
      "text/plain": [
       "    SALARY\n",
       "0  30000.0\n",
       "1  30000.0"
      ]
     },
     "execution_count": 233,
     "metadata": {},
     "output_type": "execute_result"
    }
   ],
   "source": [
    "execute_query(query, cursor)"
   ]
  },
  {
   "cell_type": "code",
   "execution_count": 242,
   "metadata": {},
   "outputs": [],
   "source": [
    "query = \"SELECT * FROM EMPLOYEE, DEPARTMENT\""
   ]
  },
  {
   "cell_type": "code",
   "execution_count": 243,
   "metadata": {},
   "outputs": [
    {
     "name": "stdout",
     "output_type": "stream",
     "text": [
      "('John', 'B', 'Smith', '123456789', '1965-01-09', '371 Fondren, Housten, TX', 'M', Decimal('30000.00'), None, 1, 'IS', 1)\n",
      "('Ahmed', 'S', 'Taher', '987654321', '1965-01-09', '371 Fondren, Housten, TX', 'M', Decimal('30000.00'), '123456789', 1, 'IS', 1)\n",
      "('John', 'B', 'Smith', '123456789', '1965-01-09', '371 Fondren, Housten, TX', 'M', Decimal('30000.00'), None, 1, 'CS', 2)\n",
      "('Ahmed', 'S', 'Taher', '987654321', '1965-01-09', '371 Fondren, Housten, TX', 'M', Decimal('30000.00'), '123456789', 1, 'CS', 2)\n"
     ]
    },
    {
     "data": {
      "text/html": [
       "<div>\n",
       "<style scoped>\n",
       "    .dataframe tbody tr th:only-of-type {\n",
       "        vertical-align: middle;\n",
       "    }\n",
       "\n",
       "    .dataframe tbody tr th {\n",
       "        vertical-align: top;\n",
       "    }\n",
       "\n",
       "    .dataframe thead th {\n",
       "        text-align: right;\n",
       "    }\n",
       "</style>\n",
       "<table border=\"1\" class=\"dataframe\">\n",
       "  <thead>\n",
       "    <tr style=\"text-align: right;\">\n",
       "      <th></th>\n",
       "      <th>Fname</th>\n",
       "      <th>Minit</th>\n",
       "      <th>Lname</th>\n",
       "      <th>Ssn</th>\n",
       "      <th>Bdate</th>\n",
       "      <th>Address</th>\n",
       "      <th>gender</th>\n",
       "      <th>Salary</th>\n",
       "      <th>Super_ssn</th>\n",
       "      <th>Dno</th>\n",
       "      <th>Dname</th>\n",
       "      <th>Dnumber</th>\n",
       "    </tr>\n",
       "  </thead>\n",
       "  <tbody>\n",
       "    <tr>\n",
       "      <th>0</th>\n",
       "      <td>John</td>\n",
       "      <td>B</td>\n",
       "      <td>Smith</td>\n",
       "      <td>123456789</td>\n",
       "      <td>1965-01-09</td>\n",
       "      <td>371 Fondren, Housten, TX</td>\n",
       "      <td>M</td>\n",
       "      <td>30000.0</td>\n",
       "      <td>None</td>\n",
       "      <td>1</td>\n",
       "      <td>IS</td>\n",
       "      <td>1</td>\n",
       "    </tr>\n",
       "    <tr>\n",
       "      <th>1</th>\n",
       "      <td>Ahmed</td>\n",
       "      <td>S</td>\n",
       "      <td>Taher</td>\n",
       "      <td>987654321</td>\n",
       "      <td>1965-01-09</td>\n",
       "      <td>371 Fondren, Housten, TX</td>\n",
       "      <td>M</td>\n",
       "      <td>30000.0</td>\n",
       "      <td>123456789</td>\n",
       "      <td>1</td>\n",
       "      <td>IS</td>\n",
       "      <td>1</td>\n",
       "    </tr>\n",
       "    <tr>\n",
       "      <th>2</th>\n",
       "      <td>John</td>\n",
       "      <td>B</td>\n",
       "      <td>Smith</td>\n",
       "      <td>123456789</td>\n",
       "      <td>1965-01-09</td>\n",
       "      <td>371 Fondren, Housten, TX</td>\n",
       "      <td>M</td>\n",
       "      <td>30000.0</td>\n",
       "      <td>None</td>\n",
       "      <td>1</td>\n",
       "      <td>CS</td>\n",
       "      <td>2</td>\n",
       "    </tr>\n",
       "    <tr>\n",
       "      <th>3</th>\n",
       "      <td>Ahmed</td>\n",
       "      <td>S</td>\n",
       "      <td>Taher</td>\n",
       "      <td>987654321</td>\n",
       "      <td>1965-01-09</td>\n",
       "      <td>371 Fondren, Housten, TX</td>\n",
       "      <td>M</td>\n",
       "      <td>30000.0</td>\n",
       "      <td>123456789</td>\n",
       "      <td>1</td>\n",
       "      <td>CS</td>\n",
       "      <td>2</td>\n",
       "    </tr>\n",
       "  </tbody>\n",
       "</table>\n",
       "</div>"
      ],
      "text/plain": [
       "   Fname Minit  Lname        Ssn       Bdate                   Address gender  \\\n",
       "0   John     B  Smith  123456789  1965-01-09  371 Fondren, Housten, TX      M   \n",
       "1  Ahmed     S  Taher  987654321  1965-01-09  371 Fondren, Housten, TX      M   \n",
       "2   John     B  Smith  123456789  1965-01-09  371 Fondren, Housten, TX      M   \n",
       "3  Ahmed     S  Taher  987654321  1965-01-09  371 Fondren, Housten, TX      M   \n",
       "\n",
       "    Salary  Super_ssn  Dno Dname  Dnumber  \n",
       "0  30000.0       None    1    IS        1  \n",
       "1  30000.0  123456789    1    IS        1  \n",
       "2  30000.0       None    1    CS        2  \n",
       "3  30000.0  123456789    1    CS        2  "
      ]
     },
     "execution_count": 243,
     "metadata": {},
     "output_type": "execute_result"
    }
   ],
   "source": [
    "execute_query(query, cursor)"
   ]
  },
  {
   "cell_type": "code",
   "execution_count": null,
   "metadata": {},
   "outputs": [],
   "source": []
  }
 ],
 "metadata": {
  "kernelspec": {
   "display_name": "Python 3",
   "language": "python",
   "name": "python3"
  },
  "language_info": {
   "codemirror_mode": {
    "name": "ipython",
    "version": 3
   },
   "file_extension": ".py",
   "mimetype": "text/x-python",
   "name": "python",
   "nbconvert_exporter": "python",
   "pygments_lexer": "ipython3",
   "version": "3.7.3"
  }
 },
 "nbformat": 4,
 "nbformat_minor": 2
}
