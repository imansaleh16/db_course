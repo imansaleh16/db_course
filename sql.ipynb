{
 "cells": [
  {
   "cell_type": "markdown",
   "metadata": {},
   "source": [
    "# ODBC\n",
    "\n",
    "Stands for __O__pen __D__atabase __C__onnectivity. It provides an __A__pplication __P__rogramming __I__nterface (API) that allows client side programs to call DBMS.<br>\n",
    "* Query and transaction requests are sent using the ODBC API to the RDBMS.\n",
    "* Query results are sent back to client programs.\n",
    "* Example: JDBC for Java programs, pyodbc for Python.<br>\n",
    "<img src=\"arch.jpg\" alt=\"Three tier client server architecture for DBMS\" title=\"Three tier architecture\" width=\"400\" hight=\"400\" align=\"left\"/>"
   ]
  },
  {
   "cell_type": "markdown",
   "metadata": {},
   "source": [
    "Some guidelines for writing Jupyter notebooks can be found here <br>\n",
    "https://www.ibm.com/support/knowledgecenter/SSHGWL_1.2.3/analyze-data/markd-jupyter.html"
   ]
  },
  {
   "cell_type": "markdown",
   "metadata": {},
   "source": [
    "# Jupyter notebook\n",
    "\n",
    "To work with jupyter notebook: <br>\n",
    "* Install Anaconda https://www.anaconda.com/\n",
    "* Install pyodbc as illustrated here https://pypi.org/project/pyodbc/ by typing pip install pyodbc in anaconda prompt (you will find anaconda prompt in the start menu)\n",
    "* Launch jupyter notebook from anaconda prompt by typing: jupyter notebook"
   ]
  },
  {
   "cell_type": "markdown",
   "metadata": {},
   "source": [
    "# Imports"
   ]
  },
  {
   "cell_type": "code",
   "execution_count": 25,
   "metadata": {},
   "outputs": [],
   "source": [
    "import pyodbc as podbc\n",
    "import pandas as pd\n",
    "# More about Pandas https://pandas.pydata.org/about/index.html"
   ]
  },
  {
   "cell_type": "markdown",
   "metadata": {},
   "source": [
    "# Connect to DB method"
   ]
  },
  {
   "cell_type": "code",
   "execution_count": 72,
   "metadata": {},
   "outputs": [],
   "source": [
    "def connect_to_db():\n",
    "    conn = podbc.connect('Driver={SQL Server};'\n",
    "                          'Server=RAISA-CAIRO-19\\SQLEXPRESS;'\n",
    "                          'Database={COMPANY};'\n",
    "                          'Trusted_Connection=yes;')\n",
    "    cursor = conn.cursor()\n",
    "    return conn, cursor"
   ]
  },
  {
   "cell_type": "markdown",
   "metadata": {},
   "source": [
    "# Execute query method"
   ]
  },
  {
   "cell_type": "code",
   "execution_count": 73,
   "metadata": {},
   "outputs": [],
   "source": [
    "def execute_query(query, cursor):\n",
    "    cursor.execute(query)\n",
    "    for row in cursor:\n",
    "        print(row)\n",
    "    df = pd.read_sql_query(query, conn)\n",
    "    cursor.commit()\n",
    "    return df"
   ]
  },
  {
   "cell_type": "code",
   "execution_count": 74,
   "metadata": {},
   "outputs": [],
   "source": [
    "def execute_non_return_query(query, cursor):\n",
    "    cursor.execute(query)\n",
    "    cursor.commit()"
   ]
  },
  {
   "cell_type": "markdown",
   "metadata": {},
   "source": [
    "# Create table query"
   ]
  },
  {
   "cell_type": "code",
   "execution_count": 75,
   "metadata": {},
   "outputs": [],
   "source": [
    "query = \"\"\"CREATE TABLE EMPLOYEE(\n",
    "Fname VARCHAR(15) NOT NULL,\n",
    "Minit CHAR,\n",
    "Lname VARCHAR(15) NOT NULL,\n",
    "Ssn char(9) NOT NULL,\n",
    "Bdate DATE,\n",
    "Address VARCHAR(30),\n",
    "gender CHAR,\n",
    "Salary DECIMAL(10,2),\n",
    "Super_ssn CHAR(9),\n",
    "Dno int NOT NULL,\n",
    "PRIMARY KEY(Ssn)\n",
    ")\"\"\""
   ]
  },
  {
   "cell_type": "code",
   "execution_count": 85,
   "metadata": {},
   "outputs": [
    {
     "name": "stdout",
     "output_type": "stream",
     "text": [
      "SELECT * FROM EMPLOYEE\n"
     ]
    }
   ],
   "source": [
    "print(query)"
   ]
  },
  {
   "cell_type": "code",
   "execution_count": 78,
   "metadata": {},
   "outputs": [],
   "source": [
    "conn, cursor = connect_to_db()"
   ]
  },
  {
   "cell_type": "code",
   "execution_count": null,
   "metadata": {},
   "outputs": [],
   "source": [
    "execute_non_return_query(query, cursor)"
   ]
  },
  {
   "cell_type": "markdown",
   "metadata": {},
   "source": [
    "# Insert"
   ]
  },
  {
   "cell_type": "code",
   "execution_count": 80,
   "metadata": {},
   "outputs": [],
   "source": [
    "query = \"\"\"INSERT INTO EMPLOYEE VALUES('John', 'B', 'Smith', '123456789', '1965-01-09', \n",
    "'371 Fondren, Housten, TX', 'M', 30000, '333445555', 5)\n",
    "\"\"\""
   ]
  },
  {
   "cell_type": "code",
   "execution_count": 81,
   "metadata": {},
   "outputs": [],
   "source": [
    "execute_non_return_query(query, cursor)"
   ]
  },
  {
   "cell_type": "markdown",
   "metadata": {},
   "source": [
    "# Select"
   ]
  },
  {
   "cell_type": "code",
   "execution_count": 83,
   "metadata": {},
   "outputs": [],
   "source": [
    "query = \"SELECT * FROM EMPLOYEE\""
   ]
  },
  {
   "cell_type": "code",
   "execution_count": 84,
   "metadata": {},
   "outputs": [
    {
     "name": "stdout",
     "output_type": "stream",
     "text": [
      "('John', 'B', 'Smith', '123456789', '1965-01-09', '371 Fondren, Housten, TX', 'M', Decimal('30000.00'), '333445555', 5)\n"
     ]
    },
    {
     "data": {
      "text/html": [
       "<div>\n",
       "<style scoped>\n",
       "    .dataframe tbody tr th:only-of-type {\n",
       "        vertical-align: middle;\n",
       "    }\n",
       "\n",
       "    .dataframe tbody tr th {\n",
       "        vertical-align: top;\n",
       "    }\n",
       "\n",
       "    .dataframe thead th {\n",
       "        text-align: right;\n",
       "    }\n",
       "</style>\n",
       "<table border=\"1\" class=\"dataframe\">\n",
       "  <thead>\n",
       "    <tr style=\"text-align: right;\">\n",
       "      <th></th>\n",
       "      <th>Fname</th>\n",
       "      <th>Minit</th>\n",
       "      <th>Lname</th>\n",
       "      <th>Ssn</th>\n",
       "      <th>Bdate</th>\n",
       "      <th>Address</th>\n",
       "      <th>gender</th>\n",
       "      <th>Salary</th>\n",
       "      <th>Super_ssn</th>\n",
       "      <th>Dno</th>\n",
       "    </tr>\n",
       "  </thead>\n",
       "  <tbody>\n",
       "    <tr>\n",
       "      <th>0</th>\n",
       "      <td>John</td>\n",
       "      <td>B</td>\n",
       "      <td>Smith</td>\n",
       "      <td>123456789</td>\n",
       "      <td>1965-01-09</td>\n",
       "      <td>371 Fondren, Housten, TX</td>\n",
       "      <td>M</td>\n",
       "      <td>30000.0</td>\n",
       "      <td>333445555</td>\n",
       "      <td>5</td>\n",
       "    </tr>\n",
       "  </tbody>\n",
       "</table>\n",
       "</div>"
      ],
      "text/plain": [
       "  Fname Minit  Lname        Ssn       Bdate                   Address gender  \\\n",
       "0  John     B  Smith  123456789  1965-01-09  371 Fondren, Housten, TX      M   \n",
       "\n",
       "    Salary  Super_ssn  Dno  \n",
       "0  30000.0  333445555    5  "
      ]
     },
     "execution_count": 84,
     "metadata": {},
     "output_type": "execute_result"
    }
   ],
   "source": [
    "execute_query(query, cursor)"
   ]
  },
  {
   "cell_type": "code",
   "execution_count": null,
   "metadata": {},
   "outputs": [],
   "source": []
  }
 ],
 "metadata": {
  "kernelspec": {
   "display_name": "Python 3",
   "language": "python",
   "name": "python3"
  },
  "language_info": {
   "codemirror_mode": {
    "name": "ipython",
    "version": 3
   },
   "file_extension": ".py",
   "mimetype": "text/x-python",
   "name": "python",
   "nbconvert_exporter": "python",
   "pygments_lexer": "ipython3",
   "version": "3.7.3"
  }
 },
 "nbformat": 4,
 "nbformat_minor": 2
}
